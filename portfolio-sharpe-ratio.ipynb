{
 "cells": [
  {
   "cell_type": "code",
   "execution_count": 10,
   "metadata": {},
   "outputs": [],
   "source": [
    "import numpy as np\n",
    "import pandas as pd\n",
    "import matplotlib.pyplot as plt\n",
    "import yfinance as yf\n",
    "from scipy.optimize import minimize"
   ]
  },
  {
   "cell_type": "code",
   "execution_count": 11,
   "metadata": {},
   "outputs": [],
   "source": [
    "portfolio = {\n",
    "  \"portfolio\": [\n",
    "\n",
    "    {\"symbol\": \"NVDA\", \"totalValue\": 1000, \"percentageOfPortfolio\": 12.5},\n",
    "    {\"symbol\": \"AMD\", \"totalValue\": 1000, \"percentageOfPortfolio\": 12.5},\n",
    "    {\"symbol\": \"META\", \"totalValue\": 1000, \"percentageOfPortfolio\": 12.5},\n",
    "    {\"symbol\": \"GOOGL\", \"totalValue\": 1000, \"percentageOfPortfolio\": 12.5},\n",
    "    {\"symbol\": \"TSLA\", \"totalValue\": 1000, \"percentageOfPortfolio\": 12.5},\n",
    "    {\"symbol\": \"AMZN\", \"totalValue\": 1000, \"percentageOfPortfolio\": 12.5},\n",
    "    {\"symbol\": \"MSFT\", \"totalValue\": 1000, \"percentageOfPortfolio\": 12.5},\n",
    "    {\"symbol\": \"FSLY\", \"totalValue\": 1000, \"percentageOfPortfolio\": 12.5}\n",
    "  ]\n",
    "}\n",
    "\n",
    "# Extract symbols into a list\n",
    "symbols = [entry[\"symbol\"] for entry in portfolio[\"portfolio\"]]\n"
   ]
  },
  {
   "cell_type": "code",
   "execution_count": 12,
   "metadata": {},
   "outputs": [
    {
     "name": "stderr",
     "output_type": "stream",
     "text": [
      "[*********************100%%**********************]  1 of 1 completed\n",
      "[*********************100%%**********************]  1 of 1 completed\n",
      "[*********************100%%**********************]  1 of 1 completed\n",
      "[*********************100%%**********************]  1 of 1 completed\n",
      "[*********************100%%**********************]  1 of 1 completed\n",
      "[*********************100%%**********************]  1 of 1 completed\n",
      "[*********************100%%**********************]  1 of 1 completed"
     ]
    },
    {
     "name": "stderr",
     "output_type": "stream",
     "text": [
      "\n",
      "[*********************100%%**********************]  1 of 1 completed\n"
     ]
    }
   ],
   "source": [
    "# Fetch historical data\n",
    "start_date = \"2022-10-01\"\n",
    "end_date = \"2024-02-22\"\n",
    "\n",
    "price_data = pd.DataFrame()\n",
    "\n",
    "for item in portfolio['portfolio']:\n",
    "    symbol = item['symbol']\n",
    "    data = yf.download(symbol, start=start_date, end=end_date)\n",
    "    price_data[symbol] = data['Adj Close']\n",
    "\n",
    "# Calculate daily returns\n",
    "daily_returns = price_data.pct_change().dropna()\n",
    "\n"
   ]
  },
  {
   "cell_type": "code",
   "execution_count": 13,
   "metadata": {},
   "outputs": [
    {
     "name": "stdout",
     "output_type": "stream",
     "text": [
      "Sorted Sharpe Ratios for Individual Assets:\n",
      "NVDA     2.665509\n",
      "META     2.019822\n",
      "AMD      1.553608\n",
      "MSFT     1.474540\n",
      "GOOGL    0.956109\n",
      "AMZN     0.900765\n",
      "FSLY     0.830582\n",
      "TSLA    -0.014358\n",
      "dtype: float64\n"
     ]
    }
   ],
   "source": [
    "import numpy as np\n",
    "\n",
    "# Annual risk-free rate\n",
    "risk_free_rate = 0.01\n",
    "\n",
    "# Annualize the daily returns\n",
    "annual_returns = daily_returns.mean() * 252\n",
    "annual_std_dev = daily_returns.std() * np.sqrt(252)\n",
    "\n",
    "# Calculate the Sharpe Ratio for each asset\n",
    "sharpe_ratios = (annual_returns - risk_free_rate) / annual_std_dev\n",
    "\n",
    "# Sort the Sharpe Ratios in descending order\n",
    "sorted_sharpe_ratios = sharpe_ratios.sort_values(ascending=False)\n",
    "\n",
    "print(\"Sorted Sharpe Ratios for Individual Assets:\")\n",
    "print(sorted_sharpe_ratios)"
   ]
  },
  {
   "cell_type": "code",
   "execution_count": 14,
   "metadata": {},
   "outputs": [
    {
     "name": "stdout",
     "output_type": "stream",
     "text": [
      "Portfolio Sharpe Ratio: 1.7383629429143113\n"
     ]
    }
   ],
   "source": [
    "# Calculate portfolio weights based on percentageOfPortfolio\n",
    "weights = np.array([item['percentageOfPortfolio'] for item in portfolio['portfolio']]) / 100\n",
    "\n",
    "# Portfolio expected return\n",
    "portfolio_return = np.dot(weights, annual_returns)\n",
    "\n",
    "# Portfolio volatility\n",
    "portfolio_volatility = np.sqrt(np.dot(weights.T, np.dot(daily_returns.cov() * 252, weights)))\n",
    "\n",
    "# Portfolio Sharpe Ratio\n",
    "portfolio_sharpe_ratio = (portfolio_return - risk_free_rate) / portfolio_volatility\n",
    "\n",
    "print(f\"Portfolio Sharpe Ratio: {portfolio_sharpe_ratio}\")"
   ]
  }
 ],
 "metadata": {
  "kernelspec": {
   "display_name": "Python 3",
   "language": "python",
   "name": "python3"
  },
  "language_info": {
   "codemirror_mode": {
    "name": "ipython",
    "version": 3
   },
   "file_extension": ".py",
   "mimetype": "text/x-python",
   "name": "python",
   "nbconvert_exporter": "python",
   "pygments_lexer": "ipython3",
   "version": "3.8.5"
  }
 },
 "nbformat": 4,
 "nbformat_minor": 2
}
