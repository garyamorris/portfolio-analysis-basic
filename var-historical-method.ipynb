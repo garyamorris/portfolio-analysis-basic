{
 "cells": [
  {
   "cell_type": "code",
   "execution_count": 21,
   "metadata": {},
   "outputs": [],
   "source": [
    "import numpy as np\n",
    "import pandas as pd\n",
    "import datetime as dt\n",
    "import yfinance as yf\n",
    "\n",
    "years = 15\n",
    "\n",
    "endDate = dt.datetime.now()\n",
    "startDate = endDate - dt.timedelta(days=365*years)"
   ]
  },
  {
   "cell_type": "code",
   "execution_count": 22,
   "metadata": {},
   "outputs": [
    {
     "name": "stdout",
     "output_type": "stream",
     "text": [
      "['NVDA', 'AMD', 'META', 'GOOGL', 'TSLA', 'AMZN', 'MSFT', 'FSLY']\n"
     ]
    }
   ],
   "source": [
    "portfolio = {\n",
    "  \"portfolio\": [\n",
    "\n",
    "    {\"symbol\": \"NVDA\", \"totalValue\": 1000, \"percentageOfPortfolio\": 12.5},\n",
    "    {\"symbol\": \"AMD\", \"totalValue\": 1000, \"percentageOfPortfolio\": 12.5},\n",
    "    {\"symbol\": \"META\", \"totalValue\": 1000, \"percentageOfPortfolio\": 12.5},\n",
    "    {\"symbol\": \"GOOGL\", \"totalValue\": 1000, \"percentageOfPortfolio\": 12.5},\n",
    "    {\"symbol\": \"TSLA\", \"totalValue\": 1000, \"percentageOfPortfolio\": 12.5},\n",
    "    {\"symbol\": \"AMZN\", \"totalValue\": 1000, \"percentageOfPortfolio\": 12.5},\n",
    "    {\"symbol\": \"MSFT\", \"totalValue\": 1000, \"percentageOfPortfolio\": 12.5},\n",
    "    {\"symbol\": \"FSLY\", \"totalValue\": 1000, \"percentageOfPortfolio\": 12.5}\n",
    "  ]\n",
    "}\n",
    "# Extract symbols into a list\n",
    "symbols = [entry[\"symbol\"] for entry in portfolio[\"portfolio\"]]\n",
    "\n",
    "print(symbols)"
   ]
  },
  {
   "cell_type": "code",
   "execution_count": 23,
   "metadata": {},
   "outputs": [],
   "source": [
    "tickers = symbols"
   ]
  },
  {
   "cell_type": "code",
   "execution_count": 24,
   "metadata": {},
   "outputs": [
    {
     "name": "stderr",
     "output_type": "stream",
     "text": [
      "[*********************100%%**********************]  1 of 1 completed"
     ]
    },
    {
     "name": "stderr",
     "output_type": "stream",
     "text": [
      "\n",
      "[*********************100%%**********************]  1 of 1 completed\n",
      "[*********************100%%**********************]  1 of 1 completed\n",
      "[*********************100%%**********************]  1 of 1 completed\n",
      "[*********************100%%**********************]  1 of 1 completed\n",
      "[*********************100%%**********************]  1 of 1 completed\n",
      "[*********************100%%**********************]  1 of 1 completed\n",
      "[*********************100%%**********************]  1 of 1 completed"
     ]
    },
    {
     "name": "stdout",
     "output_type": "stream",
     "text": [
      "                  NVDA         AMD        META       GOOGL        TSLA  \\\n",
      "Date                                                                     \n",
      "2009-02-25    1.834690    2.220000         NaN    8.549550         NaN   \n",
      "2009-02-26    1.894318    2.090000         NaN    8.437938         NaN   \n",
      "2009-02-27    1.898904    2.180000         NaN    8.458208         NaN   \n",
      "2009-03-02    1.738369    2.010000         NaN    8.187187         NaN   \n",
      "2009-03-03    1.807170    2.070000         NaN    8.145145         NaN   \n",
      "...                ...         ...         ...         ...         ...   \n",
      "2024-02-14  739.000000  178.699997  472.778381  145.940002  188.710007   \n",
      "2024-02-15  726.580017  176.759995  483.516968  142.770004  200.449997   \n",
      "2024-02-16  726.130005  173.869995  472.818329  140.520004  199.949997   \n",
      "2024-02-20  694.520020  165.690002  471.250000  141.119995  193.759995   \n",
      "2024-02-21  674.719971  164.289993  468.029999  142.550003  194.770004   \n",
      "\n",
      "                  AMZN        MSFT       FSLY  \n",
      "Date                                           \n",
      "2009-02-25    3.185500   12.631850        NaN  \n",
      "2009-02-26    3.117000   12.229658        NaN  \n",
      "2009-02-27    3.239500   12.028558        NaN  \n",
      "2009-03-02    3.099500   11.760432        NaN  \n",
      "2009-03-03    3.085000   11.827463        NaN  \n",
      "...                ...         ...        ...  \n",
      "2024-02-14  170.979996  409.489990  23.540001  \n",
      "2024-02-15  169.800003  406.559998  16.340000  \n",
      "2024-02-16  169.509995  404.059998  15.800000  \n",
      "2024-02-20  167.080002  402.790009  14.840000  \n",
      "2024-02-21  168.589996  402.179993  14.440000  \n",
      "\n",
      "[3773 rows x 8 columns]\n"
     ]
    },
    {
     "name": "stderr",
     "output_type": "stream",
     "text": [
      "\n"
     ]
    }
   ],
   "source": [
    "adj_close_df = pd.DataFrame()\n",
    "for ticker in tickers:\n",
    "    data = yf.download(ticker, start=startDate, end=endDate)\n",
    "    adj_close_df[ticker] = data['Adj Close']\n",
    "\n",
    "print(adj_close_df)"
   ]
  },
  {
   "cell_type": "code",
   "execution_count": 25,
   "metadata": {},
   "outputs": [
    {
     "name": "stdout",
     "output_type": "stream",
     "text": [
      "                NVDA       AMD      META     GOOGL      TSLA      AMZN  \\\n",
      "Date                                                                     \n",
      "2019-05-20 -0.031013 -0.030272 -0.014021 -0.020853 -0.027236 -0.005381   \n",
      "2019-05-21  0.021578  0.024802  0.011427  0.008508 -0.001364 -0.000780   \n",
      "2019-05-22 -0.018617  0.002191  0.002702  0.001221 -0.062110  0.001162   \n",
      "2019-05-23 -0.032589 -0.039060 -0.024306 -0.009134  0.014219 -0.024055   \n",
      "2019-05-24 -0.014839  0.003030  0.001050 -0.005893 -0.025175  0.004287   \n",
      "...              ...       ...       ...       ...       ...       ...   \n",
      "2024-02-14  0.024270  0.040892  0.028200  0.005497  0.025167  0.013780   \n",
      "2024-02-15 -0.016949 -0.010916  0.022460 -0.021961  0.060353 -0.006925   \n",
      "2024-02-16 -0.000620 -0.016485 -0.022375 -0.015885 -0.002498 -0.001709   \n",
      "2024-02-20 -0.044508 -0.048189 -0.003322  0.004261 -0.031447 -0.014439   \n",
      "2024-02-21 -0.028923 -0.008485 -0.006856  0.010082  0.005199  0.008997   \n",
      "\n",
      "                MSFT      FSLY  \n",
      "Date                            \n",
      "2019-05-20 -0.014551  0.010780  \n",
      "2019-05-21  0.005373 -0.067815  \n",
      "2019-05-22  0.006049 -0.006197  \n",
      "2019-05-23 -0.011739 -0.000889  \n",
      "2019-05-24  0.000475 -0.045462  \n",
      "...              ...       ...  \n",
      "2024-02-14  0.009619  0.027564  \n",
      "2024-02-15 -0.007181 -0.365085  \n",
      "2024-02-16 -0.006168 -0.033606  \n",
      "2024-02-20 -0.003148 -0.062684  \n",
      "2024-02-21 -0.001516 -0.027324  \n",
      "\n",
      "[1198 rows x 8 columns]\n"
     ]
    }
   ],
   "source": [
    "log_returns = np.log(adj_close_df / adj_close_df.shift(1))\n",
    "log_returns = log_returns.dropna()\n",
    "print(log_returns)"
   ]
  },
  {
   "cell_type": "code",
   "execution_count": 26,
   "metadata": {},
   "outputs": [
    {
     "name": "stdout",
     "output_type": "stream",
     "text": [
      "Total Portfolio Value: 8000 GBP\n",
      "[0.125 0.125 0.125 0.125 0.125 0.125 0.125 0.125]\n"
     ]
    }
   ],
   "source": [
    "\n",
    "\n",
    "# Calculate total portfolio value\n",
    "portfolio_value = sum(item[\"totalValue\"] for item in portfolio[\"portfolio\"])\n",
    "print(f\"Total Portfolio Value: {portfolio_value} GBP\")\n",
    "weights = np.array([entry[\"percentageOfPortfolio\"] for entry in portfolio[\"portfolio\"]])\n",
    "\n",
    "# Since weights are in percentages, convert them to fractions by dividing by 100\n",
    "weights = weights / 100\n",
    "\n",
    "print(weights)"
   ]
  },
  {
   "cell_type": "code",
   "execution_count": 27,
   "metadata": {},
   "outputs": [
    {
     "name": "stdout",
     "output_type": "stream",
     "text": [
      "Date\n",
      "2019-05-20   -0.016568\n",
      "2019-05-21    0.000216\n",
      "2019-05-22   -0.009200\n",
      "2019-05-23   -0.015944\n",
      "2019-05-24   -0.010316\n",
      "                ...   \n",
      "2024-02-14    0.021874\n",
      "2024-02-15   -0.043275\n",
      "2024-02-16   -0.012418\n",
      "2024-02-20   -0.025435\n",
      "2024-02-21   -0.006103\n",
      "Length: 1198, dtype: float64\n"
     ]
    }
   ],
   "source": [
    "historical_returns = (log_returns * weights).sum(axis =1)\n",
    "print(historical_returns)"
   ]
  },
  {
   "cell_type": "code",
   "execution_count": 28,
   "metadata": {},
   "outputs": [
    {
     "name": "stdout",
     "output_type": "stream",
     "text": [
      "Date\n",
      "2019-07-30    0.080723\n",
      "2019-07-31    0.061867\n",
      "2019-08-01    0.038339\n",
      "2019-08-02    0.032066\n",
      "2019-08-05    0.017914\n",
      "                ...   \n",
      "2024-02-14    0.199288\n",
      "2024-02-15    0.172849\n",
      "2024-02-16    0.156200\n",
      "2024-02-20    0.142641\n",
      "2024-02-21    0.108131\n",
      "Length: 1149, dtype: float64\n"
     ]
    }
   ],
   "source": [
    "days = 50\n",
    "\n",
    "range_returns = historical_returns.rolling(window = days).sum()\n",
    "range_returns = range_returns.dropna()\n",
    "print(range_returns)"
   ]
  },
  {
   "cell_type": "code",
   "execution_count": 29,
   "metadata": {},
   "outputs": [
    {
     "name": "stdout",
     "output_type": "stream",
     "text": [
      "2763.5347239606845\n"
     ]
    }
   ],
   "source": [
    "confidence_interval = 0.99\n",
    "\n",
    "VaR = -np.percentile(range_returns, 100 - (confidence_interval * 100))*portfolio_value\n",
    "print(VaR)"
   ]
  },
  {
   "cell_type": "code",
   "execution_count": 30,
   "metadata": {},
   "outputs": [
    {
     "data": {
      "image/png": "[encoded data removed]",
      "text/plain": [
       "<Figure size 432x288 with 1 Axes>"
      ]
     },
     "metadata": {
      "needs_background": "light"
     },
     "output_type": "display_data"
    }
   ],
   "source": [
    "return_window = days\n",
    "range_returns = historical_returns.rolling(window=return_window).sum()\n",
    "range_returns = range_returns.dropna()\n",
    "\n",
    "range_returns = range_returns * portfolio_value\n",
    "\n",
    "import matplotlib.pyplot as plt\n",
    "plt.hist(range_returns.dropna(), bins=50, density=True)\n",
    "plt.xlabel(f'{return_window}-Day Portfolio Return')\n",
    "plt.ylabel('Frequency')\n",
    "plt.title(f'Distribution of Portfolio {return_window}-Day Returns')\n",
    "plt.axvline(-VaR, color='r', linestyle='dashed', linewidth=2, label=f'VaR at {confidence_interval:.0%} confidence level')\n",
    "plt.legend()\n",
    "plt.show()"
   ]
  }
 ],
 "metadata": {
  "kernelspec": {
   "display_name": "Python 3",
   "language": "python",
   "name": "python3"
  },
  "language_info": {
   "codemirror_mode": {
    "name": "ipython",
    "version": 3
   },
   "file_extension": ".py",
   "mimetype": "text/x-python",
   "name": "python",
   "nbconvert_exporter": "python",
   "pygments_lexer": "ipython3",
   "version": "3.8.5"
  }
 },
 "nbformat": 4,
 "nbformat_minor": 2
}
