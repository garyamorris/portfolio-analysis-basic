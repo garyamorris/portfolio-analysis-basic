{
 "cells": [
  {
   "cell_type": "code",
   "execution_count": 7,
   "metadata": {},
   "outputs": [],
   "source": [
    "import matplotlib.pyplot as plt\n",
    "import pandas as pd"
   ]
  },
  {
   "cell_type": "code",
   "execution_count": 8,
   "metadata": {},
   "outputs": [],
   "source": [
    "portfolio = {\n",
    "  \"portfolio\": [\n",
    "\n",
    "    {\"symbol\": \"NVDA\", \"totalValue\": 1000, \"percentageOfPortfolio\": 12.5},\n",
    "    {\"symbol\": \"AMD\", \"totalValue\": 1000, \"percentageOfPortfolio\": 12.5},\n",
    "    {\"symbol\": \"META\", \"totalValue\": 1000, \"percentageOfPortfolio\": 12.5},\n",
    "    {\"symbol\": \"GOOGL\", \"totalValue\": 1000, \"percentageOfPortfolio\": 12.5},\n",
    "    {\"symbol\": \"TSLA\", \"totalValue\": 1000, \"percentageOfPortfolio\": 12.5},\n",
    "    {\"symbol\": \"AMZN\", \"totalValue\": 1000, \"percentageOfPortfolio\": 12.5},\n",
    "    {\"symbol\": \"MSFT\", \"totalValue\": 1000, \"percentageOfPortfolio\": 12.5},\n",
    "    {\"symbol\": \"FSLY\", \"totalValue\": 1000, \"percentageOfPortfolio\": 12.5}\n",
    "  ]\n",
    "}"
   ]
  },
  {
   "cell_type": "code",
   "execution_count": 9,
   "metadata": {},
   "outputs": [
    {
     "data": {
      "image/png": "[encoded data removed]",
      "text/plain": [
       "<Figure size 720x432 with 1 Axes>"
      ]
     },
     "metadata": {
      "needs_background": "light"
     },
     "output_type": "display_data"
    },
    {
     "name": "stdout",
     "output_type": "stream",
     "text": [
      "  symbol  percentageOfPortfolio  cumulativePercentage\n",
      "0   NVDA                   12.5                  12.5\n",
      "1    AMD                   12.5                  25.0\n",
      "2   META                   12.5                  37.5\n",
      "3  GOOGL                   12.5                  50.0\n",
      "4   TSLA                   12.5                  62.5\n",
      "5   AMZN                   12.5                  75.0\n",
      "6   MSFT                   12.5                  87.5\n",
      "7   FSLY                   12.5                 100.0\n"
     ]
    }
   ],
   "source": [
    "# Convert portfolio data to DataFrame for easier analysis\n",
    "df_portfolio = pd.DataFrame(portfolio['portfolio'])\n",
    "\n",
    "# Sort the DataFrame based on 'percentageOfPortfolio' to identify concentration\n",
    "df_portfolio_sorted = df_portfolio.sort_values(by='percentageOfPortfolio', ascending=False)\n",
    "\n",
    "# Plotting\n",
    "plt.figure(figsize=(10, 6))\n",
    "plt.bar(df_portfolio_sorted['symbol'], df_portfolio_sorted['percentageOfPortfolio'], color='skyblue')\n",
    "plt.xlabel('Symbols')\n",
    "plt.ylabel('Percentage of Portfolio (%)')\n",
    "plt.title('Portfolio Concentration Risk Analysis')\n",
    "plt.xticks(rotation=90)\n",
    "plt.show()\n",
    "\n",
    "# Additionally, calculate the cumulative percentage to see concentration more explicitly\n",
    "df_portfolio_sorted['cumulativePercentage'] = df_portfolio_sorted['percentageOfPortfolio'].cumsum()\n",
    "print(df_portfolio_sorted[['symbol', 'percentageOfPortfolio', 'cumulativePercentage']])"
   ]
  }
 ],
 "metadata": {
  "kernelspec": {
   "display_name": "Python 3",
   "language": "python",
   "name": "python3"
  },
  "language_info": {
   "codemirror_mode": {
    "name": "ipython",
    "version": 3
   },
   "file_extension": ".py",
   "mimetype": "text/x-python",
   "name": "python",
   "nbconvert_exporter": "python",
   "pygments_lexer": "ipython3",
   "version": "3.8.5"
  }
 },
 "nbformat": 4,
 "nbformat_minor": 2
}
