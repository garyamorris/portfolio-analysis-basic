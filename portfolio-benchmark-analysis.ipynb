{
 "cells": [
  {
   "cell_type": "code",
   "execution_count": 4,
   "metadata": {},
   "outputs": [],
   "source": [
    "\n",
    "import yfinance as yf\n",
    "import pandas as pd"
   ]
  },
  {
   "cell_type": "code",
   "execution_count": 5,
   "metadata": {},
   "outputs": [],
   "source": [
    "portfolio = {\n",
    "  \"portfolio\": [\n",
    "\n",
    "    {\"symbol\": \"NVDA\", \"totalValue\": 1000, \"percentageOfPortfolio\": 12.5},\n",
    "    {\"symbol\": \"AMD\", \"totalValue\": 1000, \"percentageOfPortfolio\": 12.5},\n",
    "    {\"symbol\": \"META\", \"totalValue\": 1000, \"percentageOfPortfolio\": 12.5},\n",
    "    {\"symbol\": \"GOOGL\", \"totalValue\": 1000, \"percentageOfPortfolio\": 12.5},\n",
    "    {\"symbol\": \"TSLA\", \"totalValue\": 1000, \"percentageOfPortfolio\": 12.5},\n",
    "    {\"symbol\": \"AMZN\", \"totalValue\": 1000, \"percentageOfPortfolio\": 12.5},\n",
    "    {\"symbol\": \"MSFT\", \"totalValue\": 1000, \"percentageOfPortfolio\": 12.5},\n",
    "    {\"symbol\": \"FSLY\", \"totalValue\": 1000, \"percentageOfPortfolio\": 12.5}\n",
    "  ]\n",
    "}\n",
    "\n"
   ]
  },
  {
   "cell_type": "code",
   "execution_count": 6,
   "metadata": {},
   "outputs": [
    {
     "name": "stdout",
     "output_type": "stream",
     "text": [
      "Portfolio Return: 128.65%\n",
      "Benchmark Return (^GSPC): 35.43%\n"
     ]
    }
   ],
   "source": [
    "# Benchmark symbol (e.g., S&P 500 Index)\n",
    "benchmark_symbol = '^GSPC'\n",
    "\n",
    "# Define the period for comparison\n",
    "start_date = \"2022-10-01\"\n",
    "end_date = \"2024-02-22\"\n",
    "\n",
    "# Initialize a DataFrame to store the weighted returns of the portfolio\n",
    "weighted_returns = []\n",
    "\n",
    "# Fetch and calculate returns for each stock in the portfolio\n",
    "for item in portfolio['portfolio']:\n",
    "    symbol = item['symbol']\n",
    "    weight = item['percentageOfPortfolio'] / 100  # Convert percentage to a decimal\n",
    "    ticker = yf.Ticker(symbol)\n",
    "    hist = ticker.history(start=start_date, end=end_date)\n",
    "    if not hist.empty:\n",
    "        total_return = (hist['Close'].iloc[-1] - hist['Close'].iloc[0]) / hist['Close'].iloc[0]\n",
    "        weighted_return = total_return * weight\n",
    "        weighted_returns.append(weighted_return)\n",
    "\n",
    "# Calculate the portfolio's overall return\n",
    "overall_portfolio_return = sum(weighted_returns)\n",
    "\n",
    "# Fetch historical data for the benchmark\n",
    "benchmark = yf.Ticker(benchmark_symbol)\n",
    "benchmark_hist = benchmark.history(start=start_date, end=end_date)\n",
    "benchmark_return = (benchmark_hist['Close'].iloc[-1] - benchmark_hist['Close'].iloc[0]) / benchmark_hist['Close'].iloc[0]\n",
    "\n",
    "# Output the comparison\n",
    "print(f\"Portfolio Return: {overall_portfolio_return:.2%}\")\n",
    "print(f\"Benchmark Return ({benchmark_symbol}): {benchmark_return:.2%}\")"
   ]
  }
 ],
 "metadata": {
  "kernelspec": {
   "display_name": "Python 3",
   "language": "python",
   "name": "python3"
  },
  "language_info": {
   "codemirror_mode": {
    "name": "ipython",
    "version": 3
   },
   "file_extension": ".py",
   "mimetype": "text/x-python",
   "name": "python",
   "nbconvert_exporter": "python",
   "pygments_lexer": "ipython3",
   "version": "3.8.5"
  }
 },
 "nbformat": 4,
 "nbformat_minor": 2
}
