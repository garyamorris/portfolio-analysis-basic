{
 "cells": [
  {
   "cell_type": "code",
   "execution_count": 4,
   "metadata": {},
   "outputs": [],
   "source": [
    "\n",
    "import yfinance as yf\n",
    "import pandas as pd\n",
    "import numpy as np"
   ]
  },
  {
   "cell_type": "code",
   "execution_count": 5,
   "metadata": {},
   "outputs": [],
   "source": [
    "portfolio = {\n",
    "  \"portfolio\": [\n",
    "\n",
    "    {\"symbol\": \"NVDA\", \"totalValue\": 1000, \"percentageOfPortfolio\": 12.5},\n",
    "    {\"symbol\": \"AMD\", \"totalValue\": 1000, \"percentageOfPortfolio\": 12.5},\n",
    "    {\"symbol\": \"META\", \"totalValue\": 1000, \"percentageOfPortfolio\": 12.5},\n",
    "    {\"symbol\": \"GOOGL\", \"totalValue\": 1000, \"percentageOfPortfolio\": 12.5},\n",
    "    {\"symbol\": \"TSLA\", \"totalValue\": 1000, \"percentageOfPortfolio\": 12.5},\n",
    "    {\"symbol\": \"AMZN\", \"totalValue\": 1000, \"percentageOfPortfolio\": 12.5},\n",
    "    {\"symbol\": \"MSFT\", \"totalValue\": 1000, \"percentageOfPortfolio\": 12.5},\n",
    "    {\"symbol\": \"FSLY\", \"totalValue\": 1000, \"percentageOfPortfolio\": 12.5}\n",
    "  ]\n",
    "}\n"
   ]
  },
  {
   "cell_type": "code",
   "execution_count": 6,
   "metadata": {},
   "outputs": [
    {
     "name": "stderr",
     "output_type": "stream",
     "text": [
      "[*********************100%%**********************]  1 of 1 completed\n",
      "[*********************100%%**********************]  1 of 1 completed\n",
      "[*********************100%%**********************]  1 of 1 completed\n",
      "[*********************100%%**********************]  1 of 1 completed"
     ]
    },
    {
     "name": "stderr",
     "output_type": "stream",
     "text": [
      "\n",
      "[*********************100%%**********************]  1 of 1 completed\n",
      "[*********************100%%**********************]  1 of 1 completed\n",
      "[*********************100%%**********************]  1 of 1 completed\n",
      "[*********************100%%**********************]  1 of 1 completed\n",
      "[*********************100%%**********************]  1 of 1 completed"
     ]
    },
    {
     "name": "stdout",
     "output_type": "stream",
     "text": [
      "Portfolio Beta: 1.8305385235118332\n"
     ]
    },
    {
     "name": "stderr",
     "output_type": "stream",
     "text": [
      "\n"
     ]
    }
   ],
   "source": [
    "# Market index symbol (S&P 500)\n",
    "market_symbol = '^GSPC'\n",
    "\n",
    "# Define the period for analysis\n",
    "start_date = \"2022-10-01\"\n",
    "end_date = \"2024-02-22\"\n",
    "\n",
    "# Fetch historical data for the market index\n",
    "market_data = yf.download(market_symbol, start=start_date, end=end_date)['Adj Close']\n",
    "market_returns = market_data.pct_change().rename(\"Market\")\n",
    "\n",
    "# Initialize a DataFrame to store betas\n",
    "betas = []\n",
    "\n",
    "# Calculate beta for each stock in the portfolio\n",
    "for item in portfolio['portfolio']:\n",
    "    symbol = item['symbol']\n",
    "    weight = item['percentageOfPortfolio'] / 100  # Convert percentage to decimal\n",
    "    \n",
    "    # Fetch historical data for the stock\n",
    "    stock_data = yf.download(symbol, start=start_date, end=end_date)['Adj Close']\n",
    "    stock_returns = stock_data.pct_change().rename(symbol)\n",
    "\n",
    "    # Combine stock returns with market returns in a single DataFrame and drop NaN values\n",
    "    combined_returns = pd.concat([stock_returns, market_returns], axis=1).dropna()\n",
    "\n",
    "    # Calculate covariance between stock and market returns and market variance\n",
    "    covariance = np.cov(combined_returns[symbol], combined_returns[\"Market\"])[0][1]\n",
    "    market_variance = np.var(combined_returns[\"Market\"])\n",
    "\n",
    "    # Calculate stock's beta and append it to the list, weighted by its portfolio percentage\n",
    "    stock_beta = covariance / market_variance\n",
    "    weighted_beta = stock_beta * weight\n",
    "    betas.append(weighted_beta)\n",
    "\n",
    "# Estimate the portfolio's beta as the sum of weighted betas\n",
    "portfolio_beta = sum(betas)\n",
    "\n",
    "print(f\"Portfolio Beta: {portfolio_beta}\")"
   ]
  }
 ],
 "metadata": {
  "kernelspec": {
   "display_name": "Python 3",
   "language": "python",
   "name": "python3"
  },
  "language_info": {
   "codemirror_mode": {
    "name": "ipython",
    "version": 3
   },
   "file_extension": ".py",
   "mimetype": "text/x-python",
   "name": "python",
   "nbconvert_exporter": "python",
   "pygments_lexer": "ipython3",
   "version": "3.8.5"
  }
 },
 "nbformat": 4,
 "nbformat_minor": 2
}
