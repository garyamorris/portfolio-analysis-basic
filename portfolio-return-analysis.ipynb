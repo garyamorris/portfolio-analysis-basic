{
 "cells": [
  {
   "cell_type": "code",
   "execution_count": 4,
   "metadata": {},
   "outputs": [],
   "source": [
    "\n",
    "import yfinance as yf\n",
    "import pandas as pd"
   ]
  },
  {
   "cell_type": "code",
   "execution_count": 5,
   "metadata": {},
   "outputs": [],
   "source": [
    "portfolio = {\n",
    "  \"portfolio\": [\n",
    "\n",
    "    {\"symbol\": \"NVDA\", \"totalValue\": 1000, \"percentageOfPortfolio\": 12.5},\n",
    "    {\"symbol\": \"AMD\", \"totalValue\": 1000, \"percentageOfPortfolio\": 12.5},\n",
    "    {\"symbol\": \"META\", \"totalValue\": 1000, \"percentageOfPortfolio\": 12.5},\n",
    "    {\"symbol\": \"GOOGL\", \"totalValue\": 1000, \"percentageOfPortfolio\": 12.5},\n",
    "    {\"symbol\": \"TSLA\", \"totalValue\": 1000, \"percentageOfPortfolio\": 12.5},\n",
    "    {\"symbol\": \"AMZN\", \"totalValue\": 1000, \"percentageOfPortfolio\": 12.5},\n",
    "    {\"symbol\": \"MSFT\", \"totalValue\": 1000, \"percentageOfPortfolio\": 12.5},\n",
    "    {\"symbol\": \"FSLY\", \"totalValue\": 1000, \"percentageOfPortfolio\": 12.5}\n",
    "  ]\n",
    "}"
   ]
  },
  {
   "cell_type": "code",
   "execution_count": 6,
   "metadata": {},
   "outputs": [
    {
     "name": "stdout",
     "output_type": "stream",
     "text": [
      "Portfolio Return from 2022-10-01 to 2024-02-22: 128.65%\n"
     ]
    }
   ],
   "source": [
    "# Define the period for return analysis\n",
    "start_date = \"2022-10-01\"\n",
    "end_date = \"2024-02-22\"\n",
    "\n",
    "# Fetch historical data and calculate returns\n",
    "returns = []\n",
    "weights = []\n",
    "\n",
    "for item in portfolio['portfolio']:\n",
    "    symbol = item['symbol']\n",
    "    weight = item['percentageOfPortfolio'] / 100  # Convert percentage to a decimal\n",
    "    weights.append(weight)\n",
    "\n",
    "    # Fetch historical data\n",
    "    ticker = yf.Ticker(symbol)\n",
    "    hist = ticker.history(start=start_date, end=end_date)\n",
    "\n",
    "    # Calculate the total return for the period\n",
    "    initial_price = hist['Close'].iloc[0]\n",
    "    final_price = hist['Close'].iloc[-1]\n",
    "    total_return = (final_price - initial_price) / initial_price\n",
    "    returns.append(total_return)\n",
    "\n",
    "# Calculate the portfolio's weighted average return\n",
    "portfolio_return = sum([a*b for a, b in zip(returns, weights)])\n",
    "\n",
    "print(f\"Portfolio Return from {start_date} to {end_date}: {portfolio_return:.2%}\")"
   ]
  }
 ],
 "metadata": {
  "kernelspec": {
   "display_name": "Python 3",
   "language": "python",
   "name": "python3"
  },
  "language_info": {
   "codemirror_mode": {
    "name": "ipython",
    "version": 3
   },
   "file_extension": ".py",
   "mimetype": "text/x-python",
   "name": "python",
   "nbconvert_exporter": "python",
   "pygments_lexer": "ipython3",
   "version": "3.8.5"
  }
 },
 "nbformat": 4,
 "nbformat_minor": 2
}
