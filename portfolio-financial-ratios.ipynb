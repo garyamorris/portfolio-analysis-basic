{
 "cells": [
  {
   "cell_type": "code",
   "execution_count": 22,
   "metadata": {},
   "outputs": [],
   "source": [
    "import numpy as np\n",
    "import pandas as pd\n",
    "import matplotlib.pyplot as plt\n",
    "import yfinance as yf\n",
    "from scipy.optimize import minimize"
   ]
  },
  {
   "cell_type": "code",
   "execution_count": 23,
   "metadata": {},
   "outputs": [],
   "source": [
    "portfolio = {\n",
    "  \"portfolio\": [\n",
    "\n",
    "    {\"symbol\": \"NVDA\", \"totalValue\": 1000, \"percentageOfPortfolio\": 12.5},\n",
    "    {\"symbol\": \"AMD\", \"totalValue\": 1000, \"percentageOfPortfolio\": 12.5},\n",
    "    {\"symbol\": \"META\", \"totalValue\": 1000, \"percentageOfPortfolio\": 12.5},\n",
    "    {\"symbol\": \"GOOGL\", \"totalValue\": 1000, \"percentageOfPortfolio\": 12.5},\n",
    "    {\"symbol\": \"TSLA\", \"totalValue\": 1000, \"percentageOfPortfolio\": 12.5},\n",
    "    {\"symbol\": \"AMZN\", \"totalValue\": 1000, \"percentageOfPortfolio\": 12.5},\n",
    "    {\"symbol\": \"MSFT\", \"totalValue\": 1000, \"percentageOfPortfolio\": 12.5},\n",
    "    {\"symbol\": \"FSLY\", \"totalValue\": 1000, \"percentageOfPortfolio\": 12.5}\n",
    "  ]\n",
    "}\n",
    "# Extract symbols into a list\n",
    "symbols = [entry[\"symbol\"] for entry in portfolio[\"portfolio\"]]\n"
   ]
  },
  {
   "cell_type": "code",
   "execution_count": 24,
   "metadata": {},
   "outputs": [
    {
     "name": "stdout",
     "output_type": "stream",
     "text": [
      "  Symbol  P/E Ratio  P/B Ratio  Dividend Yield\n",
      "6   MSFT   36.36347  12.544603            0.75\n",
      "2   META  31.432505   7.825542            0.43\n",
      "0   NVDA   89.24867  38.714710            0.02\n",
      "1    AMD  309.98114   4.750050             NaN\n",
      "3  GOOGL  24.577585   6.267863             NaN\n",
      "4   TSLA  45.190258   9.904398             NaN\n",
      "5   AMZN   58.13448   8.670986             NaN\n",
      "7   FSLY        N/A   1.943734             NaN\n"
     ]
    }
   ],
   "source": [
    "# List to store the financial ratios\n",
    "financial_ratios_list = []\n",
    "\n",
    "for symbol in symbols:\n",
    "    ticker = yf.Ticker(symbol)\n",
    "    info = ticker.info\n",
    "    \n",
    "    # Initialize variables to \"N/A\" to handle missing data\n",
    "    pe_ratio = info.get('trailingPE', \"N/A\")\n",
    "    pb_ratio = info.get('priceToBook', \"N/A\")\n",
    "    dividend_yield = info.get('dividendYield', \"N/A\")  # This is already in decimal form\n",
    "    \n",
    "    # Convert dividend yield to percentage if not \"N/A\"\n",
    "    if dividend_yield != \"N/A\" and dividend_yield is not None:\n",
    "        dividend_yield *= 100  # Convert to percentage\n",
    "    \n",
    "    # Append the data for this stock to the list\n",
    "    financial_ratios_list.append({\n",
    "        \"Symbol\": symbol,\n",
    "        \"P/E Ratio\": pe_ratio,\n",
    "        \"P/B Ratio\": pb_ratio,\n",
    "        \"Dividend Yield\": dividend_yield\n",
    "    })\n",
    "\n",
    "# Convert \"N/A\" in dividend yield to np.nan for proper sorting\n",
    "for ratio in financial_ratios_list:\n",
    "    if ratio[\"Dividend Yield\"] == \"N/A\":\n",
    "        ratio[\"Dividend Yield\"] = np.nan\n",
    "    else:\n",
    "        # Ensure all dividend yields are floats (this might be redundant if already done)\n",
    "        ratio[\"Dividend Yield\"] = float(ratio[\"Dividend Yield\"])\n",
    "\n",
    "# Convert the list of dictionaries to a DataFrame\n",
    "financial_ratios_df = pd.DataFrame(financial_ratios_list)\n",
    "\n",
    "# Sort the DataFrame by the \"Dividend Yield\" column, with NaNs placed at the end\n",
    "financial_ratios_df = financial_ratios_df.sort_values(by=\"Dividend Yield\", ascending=False, na_position='last')\n",
    "\n",
    "# Display the sorted financial ratios for each stock in the portfolio\n",
    "print(financial_ratios_df)"
   ]
  }
 ],
 "metadata": {
  "kernelspec": {
   "display_name": "Python 3",
   "language": "python",
   "name": "python3"
  },
  "language_info": {
   "codemirror_mode": {
    "name": "ipython",
    "version": 3
   },
   "file_extension": ".py",
   "mimetype": "text/x-python",
   "name": "python",
   "nbconvert_exporter": "python",
   "pygments_lexer": "ipython3",
   "version": "3.8.5"
  }
 },
 "nbformat": 4,
 "nbformat_minor": 2
}
