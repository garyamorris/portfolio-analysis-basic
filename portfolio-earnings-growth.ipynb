{
 "cells": [
  {
   "cell_type": "code",
   "execution_count": 6,
   "metadata": {},
   "outputs": [],
   "source": [
    "import numpy as np\n",
    "import pandas as pd\n",
    "import matplotlib.pyplot as plt\n",
    "import yfinance as yf\n",
    "from scipy.optimize import minimize"
   ]
  },
  {
   "cell_type": "code",
   "execution_count": 7,
   "metadata": {},
   "outputs": [],
   "source": [
    "portfolio = {\n",
    "  \"portfolio\": [\n",
    "\n",
    "    {\"symbol\": \"NVDA\", \"totalValue\": 1000, \"percentageOfPortfolio\": 12.5},\n",
    "    {\"symbol\": \"AMD\", \"totalValue\": 1000, \"percentageOfPortfolio\": 12.5},\n",
    "    {\"symbol\": \"META\", \"totalValue\": 1000, \"percentageOfPortfolio\": 12.5},\n",
    "    {\"symbol\": \"GOOGL\", \"totalValue\": 1000, \"percentageOfPortfolio\": 12.5},\n",
    "    {\"symbol\": \"TSLA\", \"totalValue\": 1000, \"percentageOfPortfolio\": 12.5},\n",
    "    {\"symbol\": \"AMZN\", \"totalValue\": 1000, \"percentageOfPortfolio\": 12.5},\n",
    "    {\"symbol\": \"MSFT\", \"totalValue\": 1000, \"percentageOfPortfolio\": 12.5},\n",
    "    {\"symbol\": \"FSLY\", \"totalValue\": 1000, \"percentageOfPortfolio\": 12.5}\n",
    "  ]\n",
    "}\n",
    "\n",
    "# Extract symbols into a list\n",
    "symbols = [entry[\"symbol\"] for entry in portfolio[\"portfolio\"]]\n"
   ]
  },
  {
   "cell_type": "code",
   "execution_count": 8,
   "metadata": {},
   "outputs": [
    {
     "name": "stdout",
     "output_type": "stream",
     "text": [
      "  Symbol  Trailing EPS  Forward EPS  Earnings Growth\n",
      "1    AMD          0.53         5.45         9.283019\n",
      "0   NVDA          7.56        22.10         1.923280\n",
      "7   FSLY         -1.03         0.17         1.165049\n",
      "5   AMZN          2.90         5.31         0.831034\n",
      "2   META         14.89        22.96         0.541974\n",
      "3  GOOGL          5.80         7.84         0.351724\n",
      "6   MSFT         11.06        13.35         0.207052\n",
      "4   TSLA          4.31         4.19        -0.027842\n"
     ]
    }
   ],
   "source": [
    "# Initialize a list to store earnings data for each symbol\n",
    "earnings_list = []\n",
    "\n",
    "# Fetch earnings data for each symbol in the portfolio\n",
    "for item in portfolio['portfolio']:\n",
    "    symbol = item['symbol']\n",
    "    ticker = yf.Ticker(symbol)\n",
    "    info = ticker.info\n",
    "    \n",
    "    # Extract earnings data\n",
    "    trailing_eps = info.get('trailingEps', None)\n",
    "    forward_eps = info.get('forwardEps', None)\n",
    "    \n",
    "    # Calculate earnings growth if both trailing and forward EPS are available\n",
    "    earnings_growth = None\n",
    "    if trailing_eps is not None and forward_eps is not None:\n",
    "        earnings_growth = (forward_eps - trailing_eps) / abs(trailing_eps) if trailing_eps != 0 else None\n",
    "    \n",
    "    # Append data to the list\n",
    "    earnings_list.append({\n",
    "        'Symbol': symbol,\n",
    "        'Trailing EPS': trailing_eps,\n",
    "        'Forward EPS': forward_eps,\n",
    "        'Earnings Growth': earnings_growth\n",
    "    })\n",
    "\n",
    "# Convert the list of dictionaries to a DataFrame\n",
    "earnings_data = pd.DataFrame(earnings_list)\n",
    "\n",
    "# Display the earnings data\n",
    "print(earnings_data.nlargest(20, 'Earnings Growth'))"
   ]
  },
  {
   "cell_type": "code",
   "execution_count": 9,
   "metadata": {},
   "outputs": [
    {
     "name": "stdout",
     "output_type": "stream",
     "text": [
      "  Symbol  Trailing EPS  Forward EPS  Earnings Growth\n",
      "2   META         14.89        22.96         0.541974\n",
      "0   NVDA          7.56        22.10         1.923280\n",
      "6   MSFT         11.06        13.35         0.207052\n",
      "3  GOOGL          5.80         7.84         0.351724\n",
      "1    AMD          0.53         5.45         9.283019\n",
      "5   AMZN          2.90         5.31         0.831034\n",
      "4   TSLA          4.31         4.19        -0.027842\n",
      "7   FSLY         -1.03         0.17         1.165049\n"
     ]
    }
   ],
   "source": [
    "print(earnings_data.nlargest(20, 'Forward EPS'))"
   ]
  },
  {
   "cell_type": "code",
   "execution_count": 10,
   "metadata": {},
   "outputs": [
    {
     "name": "stdout",
     "output_type": "stream",
     "text": [
      "  Symbol  Trailing EPS  Forward EPS  Earnings Growth\n",
      "7   FSLY         -1.03         0.17         1.165049\n",
      "4   TSLA          4.31         4.19        -0.027842\n",
      "5   AMZN          2.90         5.31         0.831034\n",
      "1    AMD          0.53         5.45         9.283019\n",
      "3  GOOGL          5.80         7.84         0.351724\n",
      "6   MSFT         11.06        13.35         0.207052\n",
      "0   NVDA          7.56        22.10         1.923280\n",
      "2   META         14.89        22.96         0.541974\n"
     ]
    }
   ],
   "source": [
    "print(earnings_data.nsmallest(20, 'Forward EPS'))"
   ]
  }
 ],
 "metadata": {
  "kernelspec": {
   "display_name": "Python 3",
   "language": "python",
   "name": "python3"
  },
  "language_info": {
   "codemirror_mode": {
    "name": "ipython",
    "version": 3
   },
   "file_extension": ".py",
   "mimetype": "text/x-python",
   "name": "python",
   "nbconvert_exporter": "python",
   "pygments_lexer": "ipython3",
   "version": "3.8.5"
  }
 },
 "nbformat": 4,
 "nbformat_minor": 2
}
